{
 "cells": [
  {
   "cell_type": "code",
   "execution_count": 1,
   "id": "28db5094",
   "metadata": {},
   "outputs": [],
   "source": [
    "# Importando as biblioteca\n",
    "import pandas as pd\n",
    "import numpy as np\n",
    "import matplotlib.pyplot as plt\n",
    "import seaborn as sns\n",
    "from sklearn.preprocessing import LabelEncoder"
   ]
  },
  {
   "cell_type": "code",
   "execution_count": 2,
   "id": "316ef5a8",
   "metadata": {},
   "outputs": [],
   "source": [
    "# Importando dataset de Treino\n",
    "df_treino = pd.read_csv(\"train.csv\")"
   ]
  },
  {
   "cell_type": "code",
   "execution_count": 3,
   "id": "80bfc0d4",
   "metadata": {},
   "outputs": [],
   "source": [
    "# Importando dataset de Teste\n",
    "df_test = pd.read_csv(\"test.csv\")"
   ]
  },
  {
   "cell_type": "code",
   "execution_count": 4,
   "id": "370af195",
   "metadata": {},
   "outputs": [
    {
     "data": {
      "text/html": [
       "<div>\n",
       "<style scoped>\n",
       "    .dataframe tbody tr th:only-of-type {\n",
       "        vertical-align: middle;\n",
       "    }\n",
       "\n",
       "    .dataframe tbody tr th {\n",
       "        vertical-align: top;\n",
       "    }\n",
       "\n",
       "    .dataframe thead th {\n",
       "        text-align: right;\n",
       "    }\n",
       "</style>\n",
       "<table border=\"1\" class=\"dataframe\">\n",
       "  <thead>\n",
       "    <tr style=\"text-align: right;\">\n",
       "      <th></th>\n",
       "      <th>PassengerId</th>\n",
       "      <th>HomePlanet</th>\n",
       "      <th>CryoSleep</th>\n",
       "      <th>Cabin</th>\n",
       "      <th>Destination</th>\n",
       "      <th>Age</th>\n",
       "      <th>VIP</th>\n",
       "      <th>RoomService</th>\n",
       "      <th>FoodCourt</th>\n",
       "      <th>ShoppingMall</th>\n",
       "      <th>Spa</th>\n",
       "      <th>VRDeck</th>\n",
       "      <th>Name</th>\n",
       "      <th>Transported</th>\n",
       "    </tr>\n",
       "  </thead>\n",
       "  <tbody>\n",
       "    <tr>\n",
       "      <th>0</th>\n",
       "      <td>0001_01</td>\n",
       "      <td>Europa</td>\n",
       "      <td>False</td>\n",
       "      <td>B/0/P</td>\n",
       "      <td>TRAPPIST-1e</td>\n",
       "      <td>39.0</td>\n",
       "      <td>False</td>\n",
       "      <td>0.0</td>\n",
       "      <td>0.0</td>\n",
       "      <td>0.0</td>\n",
       "      <td>0.0</td>\n",
       "      <td>0.0</td>\n",
       "      <td>Maham Ofracculy</td>\n",
       "      <td>False</td>\n",
       "    </tr>\n",
       "    <tr>\n",
       "      <th>1</th>\n",
       "      <td>0002_01</td>\n",
       "      <td>Earth</td>\n",
       "      <td>False</td>\n",
       "      <td>F/0/S</td>\n",
       "      <td>TRAPPIST-1e</td>\n",
       "      <td>24.0</td>\n",
       "      <td>False</td>\n",
       "      <td>109.0</td>\n",
       "      <td>9.0</td>\n",
       "      <td>25.0</td>\n",
       "      <td>549.0</td>\n",
       "      <td>44.0</td>\n",
       "      <td>Juanna Vines</td>\n",
       "      <td>True</td>\n",
       "    </tr>\n",
       "    <tr>\n",
       "      <th>2</th>\n",
       "      <td>0003_01</td>\n",
       "      <td>Europa</td>\n",
       "      <td>False</td>\n",
       "      <td>A/0/S</td>\n",
       "      <td>TRAPPIST-1e</td>\n",
       "      <td>58.0</td>\n",
       "      <td>True</td>\n",
       "      <td>43.0</td>\n",
       "      <td>3576.0</td>\n",
       "      <td>0.0</td>\n",
       "      <td>6715.0</td>\n",
       "      <td>49.0</td>\n",
       "      <td>Altark Susent</td>\n",
       "      <td>False</td>\n",
       "    </tr>\n",
       "    <tr>\n",
       "      <th>3</th>\n",
       "      <td>0003_02</td>\n",
       "      <td>Europa</td>\n",
       "      <td>False</td>\n",
       "      <td>A/0/S</td>\n",
       "      <td>TRAPPIST-1e</td>\n",
       "      <td>33.0</td>\n",
       "      <td>False</td>\n",
       "      <td>0.0</td>\n",
       "      <td>1283.0</td>\n",
       "      <td>371.0</td>\n",
       "      <td>3329.0</td>\n",
       "      <td>193.0</td>\n",
       "      <td>Solam Susent</td>\n",
       "      <td>False</td>\n",
       "    </tr>\n",
       "    <tr>\n",
       "      <th>4</th>\n",
       "      <td>0004_01</td>\n",
       "      <td>Earth</td>\n",
       "      <td>False</td>\n",
       "      <td>F/1/S</td>\n",
       "      <td>TRAPPIST-1e</td>\n",
       "      <td>16.0</td>\n",
       "      <td>False</td>\n",
       "      <td>303.0</td>\n",
       "      <td>70.0</td>\n",
       "      <td>151.0</td>\n",
       "      <td>565.0</td>\n",
       "      <td>2.0</td>\n",
       "      <td>Willy Santantines</td>\n",
       "      <td>True</td>\n",
       "    </tr>\n",
       "  </tbody>\n",
       "</table>\n",
       "</div>"
      ],
      "text/plain": [
       "  PassengerId HomePlanet CryoSleep  Cabin  Destination   Age    VIP  \\\n",
       "0     0001_01     Europa     False  B/0/P  TRAPPIST-1e  39.0  False   \n",
       "1     0002_01      Earth     False  F/0/S  TRAPPIST-1e  24.0  False   \n",
       "2     0003_01     Europa     False  A/0/S  TRAPPIST-1e  58.0   True   \n",
       "3     0003_02     Europa     False  A/0/S  TRAPPIST-1e  33.0  False   \n",
       "4     0004_01      Earth     False  F/1/S  TRAPPIST-1e  16.0  False   \n",
       "\n",
       "   RoomService  FoodCourt  ShoppingMall     Spa  VRDeck               Name  \\\n",
       "0          0.0        0.0           0.0     0.0     0.0    Maham Ofracculy   \n",
       "1        109.0        9.0          25.0   549.0    44.0       Juanna Vines   \n",
       "2         43.0     3576.0           0.0  6715.0    49.0      Altark Susent   \n",
       "3          0.0     1283.0         371.0  3329.0   193.0       Solam Susent   \n",
       "4        303.0       70.0         151.0   565.0     2.0  Willy Santantines   \n",
       "\n",
       "   Transported  \n",
       "0        False  \n",
       "1         True  \n",
       "2        False  \n",
       "3        False  \n",
       "4         True  "
      ]
     },
     "execution_count": 4,
     "metadata": {},
     "output_type": "execute_result"
    }
   ],
   "source": [
    "# Visualizando os dados\n",
    "df_treino.head()"
   ]
  },
  {
   "cell_type": "code",
   "execution_count": 5,
   "id": "11aed80f",
   "metadata": {},
   "outputs": [
    {
     "data": {
      "text/html": [
       "<div>\n",
       "<style scoped>\n",
       "    .dataframe tbody tr th:only-of-type {\n",
       "        vertical-align: middle;\n",
       "    }\n",
       "\n",
       "    .dataframe tbody tr th {\n",
       "        vertical-align: top;\n",
       "    }\n",
       "\n",
       "    .dataframe thead th {\n",
       "        text-align: right;\n",
       "    }\n",
       "</style>\n",
       "<table border=\"1\" class=\"dataframe\">\n",
       "  <thead>\n",
       "    <tr style=\"text-align: right;\">\n",
       "      <th></th>\n",
       "      <th>PassengerId</th>\n",
       "      <th>HomePlanet</th>\n",
       "      <th>CryoSleep</th>\n",
       "      <th>Cabin</th>\n",
       "      <th>Destination</th>\n",
       "      <th>Age</th>\n",
       "      <th>VIP</th>\n",
       "      <th>RoomService</th>\n",
       "      <th>FoodCourt</th>\n",
       "      <th>ShoppingMall</th>\n",
       "      <th>Spa</th>\n",
       "      <th>VRDeck</th>\n",
       "      <th>Name</th>\n",
       "    </tr>\n",
       "  </thead>\n",
       "  <tbody>\n",
       "    <tr>\n",
       "      <th>0</th>\n",
       "      <td>0013_01</td>\n",
       "      <td>Earth</td>\n",
       "      <td>True</td>\n",
       "      <td>G/3/S</td>\n",
       "      <td>TRAPPIST-1e</td>\n",
       "      <td>27.0</td>\n",
       "      <td>False</td>\n",
       "      <td>0.0</td>\n",
       "      <td>0.0</td>\n",
       "      <td>0.0</td>\n",
       "      <td>0.0</td>\n",
       "      <td>0.0</td>\n",
       "      <td>Nelly Carsoning</td>\n",
       "    </tr>\n",
       "    <tr>\n",
       "      <th>1</th>\n",
       "      <td>0018_01</td>\n",
       "      <td>Earth</td>\n",
       "      <td>False</td>\n",
       "      <td>F/4/S</td>\n",
       "      <td>TRAPPIST-1e</td>\n",
       "      <td>19.0</td>\n",
       "      <td>False</td>\n",
       "      <td>0.0</td>\n",
       "      <td>9.0</td>\n",
       "      <td>0.0</td>\n",
       "      <td>2823.0</td>\n",
       "      <td>0.0</td>\n",
       "      <td>Lerome Peckers</td>\n",
       "    </tr>\n",
       "    <tr>\n",
       "      <th>2</th>\n",
       "      <td>0019_01</td>\n",
       "      <td>Europa</td>\n",
       "      <td>True</td>\n",
       "      <td>C/0/S</td>\n",
       "      <td>55 Cancri e</td>\n",
       "      <td>31.0</td>\n",
       "      <td>False</td>\n",
       "      <td>0.0</td>\n",
       "      <td>0.0</td>\n",
       "      <td>0.0</td>\n",
       "      <td>0.0</td>\n",
       "      <td>0.0</td>\n",
       "      <td>Sabih Unhearfus</td>\n",
       "    </tr>\n",
       "    <tr>\n",
       "      <th>3</th>\n",
       "      <td>0021_01</td>\n",
       "      <td>Europa</td>\n",
       "      <td>False</td>\n",
       "      <td>C/1/S</td>\n",
       "      <td>TRAPPIST-1e</td>\n",
       "      <td>38.0</td>\n",
       "      <td>False</td>\n",
       "      <td>0.0</td>\n",
       "      <td>6652.0</td>\n",
       "      <td>0.0</td>\n",
       "      <td>181.0</td>\n",
       "      <td>585.0</td>\n",
       "      <td>Meratz Caltilter</td>\n",
       "    </tr>\n",
       "    <tr>\n",
       "      <th>4</th>\n",
       "      <td>0023_01</td>\n",
       "      <td>Earth</td>\n",
       "      <td>False</td>\n",
       "      <td>F/5/S</td>\n",
       "      <td>TRAPPIST-1e</td>\n",
       "      <td>20.0</td>\n",
       "      <td>False</td>\n",
       "      <td>10.0</td>\n",
       "      <td>0.0</td>\n",
       "      <td>635.0</td>\n",
       "      <td>0.0</td>\n",
       "      <td>0.0</td>\n",
       "      <td>Brence Harperez</td>\n",
       "    </tr>\n",
       "  </tbody>\n",
       "</table>\n",
       "</div>"
      ],
      "text/plain": [
       "  PassengerId HomePlanet CryoSleep  Cabin  Destination   Age    VIP  \\\n",
       "0     0013_01      Earth      True  G/3/S  TRAPPIST-1e  27.0  False   \n",
       "1     0018_01      Earth     False  F/4/S  TRAPPIST-1e  19.0  False   \n",
       "2     0019_01     Europa      True  C/0/S  55 Cancri e  31.0  False   \n",
       "3     0021_01     Europa     False  C/1/S  TRAPPIST-1e  38.0  False   \n",
       "4     0023_01      Earth     False  F/5/S  TRAPPIST-1e  20.0  False   \n",
       "\n",
       "   RoomService  FoodCourt  ShoppingMall     Spa  VRDeck              Name  \n",
       "0          0.0        0.0           0.0     0.0     0.0   Nelly Carsoning  \n",
       "1          0.0        9.0           0.0  2823.0     0.0    Lerome Peckers  \n",
       "2          0.0        0.0           0.0     0.0     0.0   Sabih Unhearfus  \n",
       "3          0.0     6652.0           0.0   181.0   585.0  Meratz Caltilter  \n",
       "4         10.0        0.0         635.0     0.0     0.0   Brence Harperez  "
      ]
     },
     "execution_count": 5,
     "metadata": {},
     "output_type": "execute_result"
    }
   ],
   "source": [
    "# Visualizando os dados\n",
    "df_test.head()"
   ]
  },
  {
   "cell_type": "code",
   "execution_count": 6,
   "id": "ca61043e",
   "metadata": {},
   "outputs": [
    {
     "data": {
      "text/plain": [
       "(8693, 14)"
      ]
     },
     "execution_count": 6,
     "metadata": {},
     "output_type": "execute_result"
    }
   ],
   "source": [
    "# Tamanho do dataset\n",
    "df_treino.shape"
   ]
  },
  {
   "cell_type": "code",
   "execution_count": 7,
   "id": "59dfbf26",
   "metadata": {},
   "outputs": [
    {
     "data": {
      "text/plain": [
       "(4277, 13)"
      ]
     },
     "execution_count": 7,
     "metadata": {},
     "output_type": "execute_result"
    }
   ],
   "source": [
    "# Tamanho do dataset\n",
    "df_test.shape"
   ]
  },
  {
   "cell_type": "code",
   "execution_count": 8,
   "id": "6d8cf075",
   "metadata": {},
   "outputs": [
    {
     "data": {
      "text/plain": [
       "PassengerId       0\n",
       "HomePlanet      201\n",
       "CryoSleep       217\n",
       "Cabin           199\n",
       "Destination     182\n",
       "Age             179\n",
       "VIP             203\n",
       "RoomService     181\n",
       "FoodCourt       183\n",
       "ShoppingMall    208\n",
       "Spa             183\n",
       "VRDeck          188\n",
       "Name            200\n",
       "Transported       0\n",
       "dtype: int64"
      ]
     },
     "execution_count": 8,
     "metadata": {},
     "output_type": "execute_result"
    }
   ],
   "source": [
    "# Visualizando valores NaN em cada coluna\n",
    "df_treino.isnull().sum()"
   ]
  },
  {
   "cell_type": "code",
   "execution_count": 9,
   "id": "aa274a74",
   "metadata": {},
   "outputs": [
    {
     "data": {
      "text/plain": [
       "PassengerId       0\n",
       "HomePlanet       87\n",
       "CryoSleep        93\n",
       "Cabin           100\n",
       "Destination      92\n",
       "Age              91\n",
       "VIP              93\n",
       "RoomService      82\n",
       "FoodCourt       106\n",
       "ShoppingMall     98\n",
       "Spa             101\n",
       "VRDeck           80\n",
       "Name             94\n",
       "dtype: int64"
      ]
     },
     "execution_count": 9,
     "metadata": {},
     "output_type": "execute_result"
    }
   ],
   "source": [
    "# Visualizando valores NaN em cada coluna\n",
    "df_test.isnull().sum()"
   ]
  },
  {
   "cell_type": "code",
   "execution_count": 10,
   "id": "d9c8e01f",
   "metadata": {},
   "outputs": [
    {
     "data": {
      "text/html": [
       "<div>\n",
       "<style scoped>\n",
       "    .dataframe tbody tr th:only-of-type {\n",
       "        vertical-align: middle;\n",
       "    }\n",
       "\n",
       "    .dataframe tbody tr th {\n",
       "        vertical-align: top;\n",
       "    }\n",
       "\n",
       "    .dataframe thead th {\n",
       "        text-align: right;\n",
       "    }\n",
       "</style>\n",
       "<table border=\"1\" class=\"dataframe\">\n",
       "  <thead>\n",
       "    <tr style=\"text-align: right;\">\n",
       "      <th></th>\n",
       "      <th>PassengerId</th>\n",
       "      <th>HomePlanet</th>\n",
       "      <th>CryoSleep</th>\n",
       "      <th>Cabin</th>\n",
       "      <th>Destination</th>\n",
       "      <th>Age</th>\n",
       "      <th>VIP</th>\n",
       "      <th>RoomService</th>\n",
       "      <th>FoodCourt</th>\n",
       "      <th>ShoppingMall</th>\n",
       "      <th>Spa</th>\n",
       "      <th>VRDeck</th>\n",
       "      <th>Name</th>\n",
       "      <th>Transported</th>\n",
       "      <th>fold</th>\n",
       "    </tr>\n",
       "  </thead>\n",
       "  <tbody>\n",
       "    <tr>\n",
       "      <th>0</th>\n",
       "      <td>0001_01</td>\n",
       "      <td>Europa</td>\n",
       "      <td>False</td>\n",
       "      <td>B/0/P</td>\n",
       "      <td>TRAPPIST-1e</td>\n",
       "      <td>39.0</td>\n",
       "      <td>False</td>\n",
       "      <td>0.0</td>\n",
       "      <td>0.0</td>\n",
       "      <td>0.0</td>\n",
       "      <td>0.0</td>\n",
       "      <td>0.0</td>\n",
       "      <td>Maham Ofracculy</td>\n",
       "      <td>False</td>\n",
       "      <td>1</td>\n",
       "    </tr>\n",
       "    <tr>\n",
       "      <th>1</th>\n",
       "      <td>0002_01</td>\n",
       "      <td>Earth</td>\n",
       "      <td>False</td>\n",
       "      <td>F/0/S</td>\n",
       "      <td>TRAPPIST-1e</td>\n",
       "      <td>24.0</td>\n",
       "      <td>False</td>\n",
       "      <td>109.0</td>\n",
       "      <td>9.0</td>\n",
       "      <td>25.0</td>\n",
       "      <td>549.0</td>\n",
       "      <td>44.0</td>\n",
       "      <td>Juanna Vines</td>\n",
       "      <td>True</td>\n",
       "      <td>1</td>\n",
       "    </tr>\n",
       "    <tr>\n",
       "      <th>2</th>\n",
       "      <td>0003_01</td>\n",
       "      <td>Europa</td>\n",
       "      <td>False</td>\n",
       "      <td>A/0/S</td>\n",
       "      <td>TRAPPIST-1e</td>\n",
       "      <td>58.0</td>\n",
       "      <td>True</td>\n",
       "      <td>43.0</td>\n",
       "      <td>3576.0</td>\n",
       "      <td>0.0</td>\n",
       "      <td>6715.0</td>\n",
       "      <td>49.0</td>\n",
       "      <td>Altark Susent</td>\n",
       "      <td>False</td>\n",
       "      <td>1</td>\n",
       "    </tr>\n",
       "    <tr>\n",
       "      <th>3</th>\n",
       "      <td>0003_02</td>\n",
       "      <td>Europa</td>\n",
       "      <td>False</td>\n",
       "      <td>A/0/S</td>\n",
       "      <td>TRAPPIST-1e</td>\n",
       "      <td>33.0</td>\n",
       "      <td>False</td>\n",
       "      <td>0.0</td>\n",
       "      <td>1283.0</td>\n",
       "      <td>371.0</td>\n",
       "      <td>3329.0</td>\n",
       "      <td>193.0</td>\n",
       "      <td>Solam Susent</td>\n",
       "      <td>False</td>\n",
       "      <td>1</td>\n",
       "    </tr>\n",
       "    <tr>\n",
       "      <th>4</th>\n",
       "      <td>0004_01</td>\n",
       "      <td>Earth</td>\n",
       "      <td>False</td>\n",
       "      <td>F/1/S</td>\n",
       "      <td>TRAPPIST-1e</td>\n",
       "      <td>16.0</td>\n",
       "      <td>False</td>\n",
       "      <td>303.0</td>\n",
       "      <td>70.0</td>\n",
       "      <td>151.0</td>\n",
       "      <td>565.0</td>\n",
       "      <td>2.0</td>\n",
       "      <td>Willy Santantines</td>\n",
       "      <td>True</td>\n",
       "      <td>1</td>\n",
       "    </tr>\n",
       "  </tbody>\n",
       "</table>\n",
       "</div>"
      ],
      "text/plain": [
       "  PassengerId HomePlanet CryoSleep  Cabin  Destination   Age    VIP  \\\n",
       "0     0001_01     Europa     False  B/0/P  TRAPPIST-1e  39.0  False   \n",
       "1     0002_01      Earth     False  F/0/S  TRAPPIST-1e  24.0  False   \n",
       "2     0003_01     Europa     False  A/0/S  TRAPPIST-1e  58.0   True   \n",
       "3     0003_02     Europa     False  A/0/S  TRAPPIST-1e  33.0  False   \n",
       "4     0004_01      Earth     False  F/1/S  TRAPPIST-1e  16.0  False   \n",
       "\n",
       "   RoomService  FoodCourt  ShoppingMall     Spa  VRDeck               Name  \\\n",
       "0          0.0        0.0           0.0     0.0     0.0    Maham Ofracculy   \n",
       "1        109.0        9.0          25.0   549.0    44.0       Juanna Vines   \n",
       "2         43.0     3576.0           0.0  6715.0    49.0      Altark Susent   \n",
       "3          0.0     1283.0         371.0  3329.0   193.0       Solam Susent   \n",
       "4        303.0       70.0         151.0   565.0     2.0  Willy Santantines   \n",
       "\n",
       "  Transported  fold  \n",
       "0       False     1  \n",
       "1        True     1  \n",
       "2       False     1  \n",
       "3       False     1  \n",
       "4        True     1  "
      ]
     },
     "execution_count": 10,
     "metadata": {},
     "output_type": "execute_result"
    }
   ],
   "source": [
    "# Unindo os dataset\n",
    "df_treino[\"fold\"] = 1\n",
    "df_test[\"fold\"] = 2\n",
    "df_total = pd.concat([df_treino,df_test])\n",
    "df_total.head()"
   ]
  },
  {
   "cell_type": "code",
   "execution_count": 11,
   "id": "07a530dd",
   "metadata": {},
   "outputs": [
    {
     "name": "stdout",
     "output_type": "stream",
     "text": [
      "<class 'pandas.core.frame.DataFrame'>\n",
      "Int64Index: 12970 entries, 0 to 4276\n",
      "Data columns (total 15 columns):\n",
      " #   Column        Non-Null Count  Dtype  \n",
      "---  ------        --------------  -----  \n",
      " 0   PassengerId   12970 non-null  object \n",
      " 1   HomePlanet    12682 non-null  object \n",
      " 2   CryoSleep     12660 non-null  object \n",
      " 3   Cabin         12671 non-null  object \n",
      " 4   Destination   12696 non-null  object \n",
      " 5   Age           12700 non-null  float64\n",
      " 6   VIP           12674 non-null  object \n",
      " 7   RoomService   12707 non-null  float64\n",
      " 8   FoodCourt     12681 non-null  float64\n",
      " 9   ShoppingMall  12664 non-null  float64\n",
      " 10  Spa           12686 non-null  float64\n",
      " 11  VRDeck        12702 non-null  float64\n",
      " 12  Name          12676 non-null  object \n",
      " 13  Transported   8693 non-null   object \n",
      " 14  fold          12970 non-null  int64  \n",
      "dtypes: float64(6), int64(1), object(8)\n",
      "memory usage: 1.6+ MB\n"
     ]
    }
   ],
   "source": [
    "# Informações sobre o dataset\n",
    "df_total.info()"
   ]
  },
  {
   "cell_type": "code",
   "execution_count": 12,
   "id": "89945d31",
   "metadata": {},
   "outputs": [
    {
     "data": {
      "text/plain": [
       "(12970, 15)"
      ]
     },
     "execution_count": 12,
     "metadata": {},
     "output_type": "execute_result"
    }
   ],
   "source": [
    "# Tamanho do dataset\n",
    "df_total.shape"
   ]
  },
  {
   "cell_type": "code",
   "execution_count": 13,
   "id": "2a79b0b4",
   "metadata": {},
   "outputs": [
    {
     "data": {
      "text/plain": [
       "PassengerId        0\n",
       "HomePlanet       288\n",
       "CryoSleep        310\n",
       "Cabin            299\n",
       "Destination      274\n",
       "Age              270\n",
       "VIP              296\n",
       "RoomService      263\n",
       "FoodCourt        289\n",
       "ShoppingMall     306\n",
       "Spa              284\n",
       "VRDeck           268\n",
       "Name             294\n",
       "Transported     4277\n",
       "fold               0\n",
       "dtype: int64"
      ]
     },
     "execution_count": 13,
     "metadata": {},
     "output_type": "execute_result"
    }
   ],
   "source": [
    "# Visualizando valores NaN em cada coluna\n",
    "df_total.isnull().sum()"
   ]
  },
  {
   "cell_type": "code",
   "execution_count": 14,
   "id": "077f0ed6",
   "metadata": {},
   "outputs": [
    {
     "data": {
      "text/plain": [
       "array([[<AxesSubplot:title={'center':'Age'}>]], dtype=object)"
      ]
     },
     "execution_count": 14,
     "metadata": {},
     "output_type": "execute_result"
    },
    {
     "data": {
      "image/png": "[encoded data removed]",
      "text/plain": [
       "<Figure size 432x288 with 1 Axes>"
      ]
     },
     "metadata": {
      "needs_background": "light"
     },
     "output_type": "display_data"
    }
   ],
   "source": [
    "# Verificando a media de idade\n",
    "df_total.hist('Age')"
   ]
  },
  {
   "cell_type": "code",
   "execution_count": 15,
   "id": "3e9fcd2c",
   "metadata": {},
   "outputs": [],
   "source": [
    "# Preenchendo os valores NaN com a mediana\n",
    "df_total['Age'] = df_total['Age'].fillna(df_total['Age'].median())"
   ]
  },
  {
   "cell_type": "code",
   "execution_count": 16,
   "id": "5484ecf6",
   "metadata": {},
   "outputs": [
    {
     "data": {
      "text/plain": [
       "array([[<AxesSubplot:title={'center':'Age'}>]], dtype=object)"
      ]
     },
     "execution_count": 16,
     "metadata": {},
     "output_type": "execute_result"
    },
    {
     "data": {
      "image/png": "[encoded data removed]",
      "text/plain": [
       "<Figure size 432x288 with 1 Axes>"
      ]
     },
     "metadata": {
      "needs_background": "light"
     },
     "output_type": "display_data"
    }
   ],
   "source": [
    "# Verificando a media de idade depois de preencher os valores NaN com a mediana\n",
    "df_total.hist('Age')"
   ]
  },
  {
   "cell_type": "code",
   "execution_count": 17,
   "id": "e97a5b61",
   "metadata": {},
   "outputs": [
    {
     "name": "stderr",
     "output_type": "stream",
     "text": [
      "/Users/Gugah/opt/anaconda3/lib/python3.9/site-packages/seaborn/distributions.py:2619: FutureWarning: `distplot` is a deprecated function and will be removed in a future version. Please adapt your code to use either `displot` (a figure-level function with similar flexibility) or `histplot` (an axes-level function for histograms).\n",
      "  warnings.warn(msg, FutureWarning)\n"
     ]
    },
    {
     "data": {
      "text/plain": [
       "<AxesSubplot:xlabel='Age', ylabel='Density'>"
      ]
     },
     "execution_count": 17,
     "metadata": {},
     "output_type": "execute_result"
    },
    {
     "data": {
      "image/png": "[encoded data removed]",
      "text/plain": [
       "<Figure size 432x288 with 1 Axes>"
      ]
     },
     "metadata": {
      "needs_background": "light"
     },
     "output_type": "display_data"
    }
   ],
   "source": [
    "# Verificando a media de idade\n",
    "sns.distplot(df_total['Age'])"
   ]
  },
  {
   "cell_type": "code",
   "execution_count": 18,
   "id": "40187c85",
   "metadata": {},
   "outputs": [
    {
     "name": "stdout",
     "output_type": "stream",
     "text": [
      "<class 'pandas.core.frame.DataFrame'>\n",
      "Int64Index: 12970 entries, 0 to 4276\n",
      "Data columns (total 15 columns):\n",
      " #   Column        Non-Null Count  Dtype  \n",
      "---  ------        --------------  -----  \n",
      " 0   PassengerId   12970 non-null  object \n",
      " 1   HomePlanet    12682 non-null  object \n",
      " 2   CryoSleep     12660 non-null  object \n",
      " 3   Cabin         12671 non-null  object \n",
      " 4   Destination   12696 non-null  object \n",
      " 5   Age           12970 non-null  float64\n",
      " 6   VIP           12674 non-null  object \n",
      " 7   RoomService   12707 non-null  float64\n",
      " 8   FoodCourt     12681 non-null  float64\n",
      " 9   ShoppingMall  12664 non-null  float64\n",
      " 10  Spa           12686 non-null  float64\n",
      " 11  VRDeck        12702 non-null  float64\n",
      " 12  Name          12676 non-null  object \n",
      " 13  Transported   8693 non-null   object \n",
      " 14  fold          12970 non-null  int64  \n",
      "dtypes: float64(6), int64(1), object(8)\n",
      "memory usage: 1.6+ MB\n"
     ]
    }
   ],
   "source": [
    "# Visualizando valores NaN na coluna Age\n",
    "df_total.info()"
   ]
  },
  {
   "cell_type": "code",
   "execution_count": 19,
   "id": "32c45293",
   "metadata": {},
   "outputs": [
    {
     "data": {
      "text/plain": [
       "Earth     6865\n",
       "Europa    3133\n",
       "Mars      2684\n",
       "Name: HomePlanet, dtype: int64"
      ]
     },
     "execution_count": 19,
     "metadata": {},
     "output_type": "execute_result"
    }
   ],
   "source": [
    "# Visualizando a coluna HomePlanet\n",
    "df_total['HomePlanet'].value_counts()"
   ]
  },
  {
   "cell_type": "code",
   "execution_count": 20,
   "id": "5531f85d",
   "metadata": {},
   "outputs": [
    {
     "data": {
      "text/plain": [
       "Text(0.5, 1.0, 'Distribuição de Passageiros de diferentes planetas')"
      ]
     },
     "execution_count": 20,
     "metadata": {},
     "output_type": "execute_result"
    },
    {
     "data": {
      "image/png": "[encoded data removed]",
      "text/plain": [
       "<Figure size 864x576 with 1 Axes>"
      ]
     },
     "metadata": {},
     "output_type": "display_data"
    }
   ],
   "source": [
    "# Grafico de Pizza para visualizar distribuição de passageiros de diferentes planetas\n",
    "HomePlanet = df_total.HomePlanet\n",
    "plt.figure(figsize=(12,8))\n",
    "colors = sns.color_palette('Paired')\n",
    "explode = (0.05, 0.05, 0.05)\n",
    "plt.pie(x = HomePlanet.value_counts().values, labels=HomePlanet.value_counts().index,\n",
    "       explode=explode,startangle=90, colors=colors, shadow=True, autopct='%.0f%%')\n",
    "plt.title('Distribuição de Passageiros de diferentes planetas')"
   ]
  },
  {
   "cell_type": "code",
   "execution_count": 21,
   "id": "1f50a04d",
   "metadata": {},
   "outputs": [],
   "source": [
    "# Fazendo a transformação de objeto para numero float\n",
    "df_total['HomePlanet'] = LabelEncoder().fit_transform(df_total['HomePlanet'])"
   ]
  },
  {
   "cell_type": "code",
   "execution_count": 22,
   "id": "c9d102c6",
   "metadata": {},
   "outputs": [],
   "source": [
    "df_total['HomePlanet'] = np.where(df_total['HomePlanet'] < 3, df_total['HomePlanet'], np.nan)"
   ]
  },
  {
   "cell_type": "code",
   "execution_count": 23,
   "id": "65904bec",
   "metadata": {},
   "outputs": [],
   "source": [
    "# Preenchendo os valores NaN com a media\n",
    "df_total['HomePlanet'] = df_total['HomePlanet'].fillna(int(df_total['HomePlanet'].mean()))"
   ]
  },
  {
   "cell_type": "code",
   "execution_count": 24,
   "id": "3ca115e4",
   "metadata": {},
   "outputs": [
    {
     "data": {
      "text/plain": [
       "0.0    7153\n",
       "1.0    3133\n",
       "2.0    2684\n",
       "Name: HomePlanet, dtype: int64"
      ]
     },
     "execution_count": 24,
     "metadata": {},
     "output_type": "execute_result"
    }
   ],
   "source": [
    "# Visualizando novamente a coluna HomePlanet\n",
    "# Terra = 0\n",
    "# Europa = 1\n",
    "# Mars = 2\n",
    "df_total['HomePlanet'].value_counts()"
   ]
  },
  {
   "cell_type": "code",
   "execution_count": 25,
   "id": "8740aa55",
   "metadata": {},
   "outputs": [
    {
     "data": {
      "text/plain": [
       "<AxesSubplot:ylabel='HomePlanet'>"
      ]
     },
     "execution_count": 25,
     "metadata": {},
     "output_type": "execute_result"
    },
    {
     "data": {
      "image/png": "[encoded data removed]",
      "text/plain": [
       "<Figure size 864x576 with 1 Axes>"
      ]
     },
     "metadata": {
      "needs_background": "light"
     },
     "output_type": "display_data"
    }
   ],
   "source": [
    "# Boxplot aqui podemos visualizar os valores Outliers\n",
    "fig = plt.figure(figsize=(12,8))\n",
    "sns.boxplot(data = df_total, y = \"HomePlanet\", linewidth=2.5)"
   ]
  },
  {
   "cell_type": "code",
   "execution_count": 26,
   "id": "a20b478c",
   "metadata": {},
   "outputs": [
    {
     "data": {
      "text/plain": [
       "0.0    7153\n",
       "1.0    3133\n",
       "2.0    2684\n",
       "Name: HomePlanet, dtype: int64"
      ]
     },
     "execution_count": 26,
     "metadata": {},
     "output_type": "execute_result"
    }
   ],
   "source": [
    "# Visualizando novamente a coluna HomePlanet\n",
    "# Terra = 0\n",
    "# Europa = 1\n",
    "# Mars = 2\n",
    "df_total['HomePlanet'].value_counts()"
   ]
  },
  {
   "cell_type": "code",
   "execution_count": 27,
   "id": "03dbcc38",
   "metadata": {},
   "outputs": [
    {
     "name": "stderr",
     "output_type": "stream",
     "text": [
      "/Users/Gugah/opt/anaconda3/lib/python3.9/site-packages/seaborn/distributions.py:2619: FutureWarning: `distplot` is a deprecated function and will be removed in a future version. Please adapt your code to use either `displot` (a figure-level function with similar flexibility) or `histplot` (an axes-level function for histograms).\n",
      "  warnings.warn(msg, FutureWarning)\n"
     ]
    },
    {
     "data": {
      "text/plain": [
       "<AxesSubplot:xlabel='HomePlanet', ylabel='Density'>"
      ]
     },
     "execution_count": 27,
     "metadata": {},
     "output_type": "execute_result"
    },
    {
     "data": {
      "image/png": "[encoded data removed]",
      "text/plain": [
       "<Figure size 432x288 with 1 Axes>"
      ]
     },
     "metadata": {
      "needs_background": "light"
     },
     "output_type": "display_data"
    }
   ],
   "source": [
    "# Verificando a coluna HomePlanet\n",
    "sns.distplot(df_total['HomePlanet'])"
   ]
  },
  {
   "cell_type": "code",
   "execution_count": 28,
   "id": "87b3d41d",
   "metadata": {},
   "outputs": [
    {
     "data": {
      "text/plain": [
       "False    8079\n",
       "True     4581\n",
       "Name: CryoSleep, dtype: int64"
      ]
     },
     "execution_count": 28,
     "metadata": {},
     "output_type": "execute_result"
    }
   ],
   "source": [
    "# Visualizando a coluna CryoSleep\n",
    "df_total['CryoSleep'].value_counts()"
   ]
  },
  {
   "cell_type": "code",
   "execution_count": 29,
   "id": "85a89838",
   "metadata": {},
   "outputs": [],
   "source": [
    "# Fazendo a transformação de objeto para numero float\n",
    "df_total['CryoSleep'] = LabelEncoder().fit_transform(df_total['CryoSleep'])"
   ]
  },
  {
   "cell_type": "code",
   "execution_count": 30,
   "id": "756b2f35",
   "metadata": {},
   "outputs": [
    {
     "data": {
      "text/plain": [
       "0    8079\n",
       "1    4581\n",
       "2     310\n",
       "Name: CryoSleep, dtype: int64"
      ]
     },
     "execution_count": 30,
     "metadata": {},
     "output_type": "execute_result"
    }
   ],
   "source": [
    "# Visualizando novamente a coluna CryoSleep\n",
    "# False = 0\n",
    "# True = 1\n",
    "# NaN = 2\n",
    "df_total['CryoSleep'].value_counts()"
   ]
  },
  {
   "cell_type": "code",
   "execution_count": 31,
   "id": "b6e4ecdb",
   "metadata": {},
   "outputs": [],
   "source": [
    "df_total['CryoSleep'] = np.where(df_total['CryoSleep'] < 2, df_total['CryoSleep'], np.nan)"
   ]
  },
  {
   "cell_type": "code",
   "execution_count": 32,
   "id": "be7ee578",
   "metadata": {},
   "outputs": [],
   "source": [
    "# Preenchendo os valores NaN com a media\n",
    "df_total['CryoSleep'] = df_total['CryoSleep'].fillna(int(df_total['CryoSleep'].mean()))"
   ]
  },
  {
   "cell_type": "code",
   "execution_count": 33,
   "id": "2c1ba05d",
   "metadata": {},
   "outputs": [
    {
     "data": {
      "text/plain": [
       "0.0    8389\n",
       "1.0    4581\n",
       "Name: CryoSleep, dtype: int64"
      ]
     },
     "execution_count": 33,
     "metadata": {},
     "output_type": "execute_result"
    }
   ],
   "source": [
    "# Visualizando novamente a coluna CryoSleep\n",
    "# False = 0\n",
    "# True = 1\n",
    "df_total['CryoSleep'].value_counts()"
   ]
  },
  {
   "cell_type": "code",
   "execution_count": 34,
   "id": "e1b57ae0",
   "metadata": {},
   "outputs": [],
   "source": [
    "# Apagando a Coluna Name e Cabin\n",
    "del df_total['Name']\n",
    "del df_total['Cabin']"
   ]
  },
  {
   "cell_type": "code",
   "execution_count": 35,
   "id": "4b9c21be",
   "metadata": {},
   "outputs": [
    {
     "data": {
      "text/html": [
       "<div>\n",
       "<style scoped>\n",
       "    .dataframe tbody tr th:only-of-type {\n",
       "        vertical-align: middle;\n",
       "    }\n",
       "\n",
       "    .dataframe tbody tr th {\n",
       "        vertical-align: top;\n",
       "    }\n",
       "\n",
       "    .dataframe thead th {\n",
       "        text-align: right;\n",
       "    }\n",
       "</style>\n",
       "<table border=\"1\" class=\"dataframe\">\n",
       "  <thead>\n",
       "    <tr style=\"text-align: right;\">\n",
       "      <th></th>\n",
       "      <th>PassengerId</th>\n",
       "      <th>HomePlanet</th>\n",
       "      <th>CryoSleep</th>\n",
       "      <th>Destination</th>\n",
       "      <th>Age</th>\n",
       "      <th>VIP</th>\n",
       "      <th>RoomService</th>\n",
       "      <th>FoodCourt</th>\n",
       "      <th>ShoppingMall</th>\n",
       "      <th>Spa</th>\n",
       "      <th>VRDeck</th>\n",
       "      <th>Transported</th>\n",
       "      <th>fold</th>\n",
       "    </tr>\n",
       "  </thead>\n",
       "  <tbody>\n",
       "    <tr>\n",
       "      <th>0</th>\n",
       "      <td>0001_01</td>\n",
       "      <td>1.0</td>\n",
       "      <td>0.0</td>\n",
       "      <td>TRAPPIST-1e</td>\n",
       "      <td>39.0</td>\n",
       "      <td>False</td>\n",
       "      <td>0.0</td>\n",
       "      <td>0.0</td>\n",
       "      <td>0.0</td>\n",
       "      <td>0.0</td>\n",
       "      <td>0.0</td>\n",
       "      <td>False</td>\n",
       "      <td>1</td>\n",
       "    </tr>\n",
       "    <tr>\n",
       "      <th>1</th>\n",
       "      <td>0002_01</td>\n",
       "      <td>0.0</td>\n",
       "      <td>0.0</td>\n",
       "      <td>TRAPPIST-1e</td>\n",
       "      <td>24.0</td>\n",
       "      <td>False</td>\n",
       "      <td>109.0</td>\n",
       "      <td>9.0</td>\n",
       "      <td>25.0</td>\n",
       "      <td>549.0</td>\n",
       "      <td>44.0</td>\n",
       "      <td>True</td>\n",
       "      <td>1</td>\n",
       "    </tr>\n",
       "    <tr>\n",
       "      <th>2</th>\n",
       "      <td>0003_01</td>\n",
       "      <td>1.0</td>\n",
       "      <td>0.0</td>\n",
       "      <td>TRAPPIST-1e</td>\n",
       "      <td>58.0</td>\n",
       "      <td>True</td>\n",
       "      <td>43.0</td>\n",
       "      <td>3576.0</td>\n",
       "      <td>0.0</td>\n",
       "      <td>6715.0</td>\n",
       "      <td>49.0</td>\n",
       "      <td>False</td>\n",
       "      <td>1</td>\n",
       "    </tr>\n",
       "    <tr>\n",
       "      <th>3</th>\n",
       "      <td>0003_02</td>\n",
       "      <td>1.0</td>\n",
       "      <td>0.0</td>\n",
       "      <td>TRAPPIST-1e</td>\n",
       "      <td>33.0</td>\n",
       "      <td>False</td>\n",
       "      <td>0.0</td>\n",
       "      <td>1283.0</td>\n",
       "      <td>371.0</td>\n",
       "      <td>3329.0</td>\n",
       "      <td>193.0</td>\n",
       "      <td>False</td>\n",
       "      <td>1</td>\n",
       "    </tr>\n",
       "    <tr>\n",
       "      <th>4</th>\n",
       "      <td>0004_01</td>\n",
       "      <td>0.0</td>\n",
       "      <td>0.0</td>\n",
       "      <td>TRAPPIST-1e</td>\n",
       "      <td>16.0</td>\n",
       "      <td>False</td>\n",
       "      <td>303.0</td>\n",
       "      <td>70.0</td>\n",
       "      <td>151.0</td>\n",
       "      <td>565.0</td>\n",
       "      <td>2.0</td>\n",
       "      <td>True</td>\n",
       "      <td>1</td>\n",
       "    </tr>\n",
       "    <tr>\n",
       "      <th>5</th>\n",
       "      <td>0005_01</td>\n",
       "      <td>0.0</td>\n",
       "      <td>0.0</td>\n",
       "      <td>PSO J318.5-22</td>\n",
       "      <td>44.0</td>\n",
       "      <td>False</td>\n",
       "      <td>0.0</td>\n",
       "      <td>483.0</td>\n",
       "      <td>0.0</td>\n",
       "      <td>291.0</td>\n",
       "      <td>0.0</td>\n",
       "      <td>True</td>\n",
       "      <td>1</td>\n",
       "    </tr>\n",
       "    <tr>\n",
       "      <th>6</th>\n",
       "      <td>0006_01</td>\n",
       "      <td>0.0</td>\n",
       "      <td>0.0</td>\n",
       "      <td>TRAPPIST-1e</td>\n",
       "      <td>26.0</td>\n",
       "      <td>False</td>\n",
       "      <td>42.0</td>\n",
       "      <td>1539.0</td>\n",
       "      <td>3.0</td>\n",
       "      <td>0.0</td>\n",
       "      <td>0.0</td>\n",
       "      <td>True</td>\n",
       "      <td>1</td>\n",
       "    </tr>\n",
       "    <tr>\n",
       "      <th>7</th>\n",
       "      <td>0006_02</td>\n",
       "      <td>0.0</td>\n",
       "      <td>1.0</td>\n",
       "      <td>TRAPPIST-1e</td>\n",
       "      <td>28.0</td>\n",
       "      <td>False</td>\n",
       "      <td>0.0</td>\n",
       "      <td>0.0</td>\n",
       "      <td>0.0</td>\n",
       "      <td>0.0</td>\n",
       "      <td>NaN</td>\n",
       "      <td>True</td>\n",
       "      <td>1</td>\n",
       "    </tr>\n",
       "    <tr>\n",
       "      <th>8</th>\n",
       "      <td>0007_01</td>\n",
       "      <td>0.0</td>\n",
       "      <td>0.0</td>\n",
       "      <td>TRAPPIST-1e</td>\n",
       "      <td>35.0</td>\n",
       "      <td>False</td>\n",
       "      <td>0.0</td>\n",
       "      <td>785.0</td>\n",
       "      <td>17.0</td>\n",
       "      <td>216.0</td>\n",
       "      <td>0.0</td>\n",
       "      <td>True</td>\n",
       "      <td>1</td>\n",
       "    </tr>\n",
       "    <tr>\n",
       "      <th>9</th>\n",
       "      <td>0008_01</td>\n",
       "      <td>1.0</td>\n",
       "      <td>1.0</td>\n",
       "      <td>55 Cancri e</td>\n",
       "      <td>14.0</td>\n",
       "      <td>False</td>\n",
       "      <td>0.0</td>\n",
       "      <td>0.0</td>\n",
       "      <td>0.0</td>\n",
       "      <td>0.0</td>\n",
       "      <td>0.0</td>\n",
       "      <td>True</td>\n",
       "      <td>1</td>\n",
       "    </tr>\n",
       "  </tbody>\n",
       "</table>\n",
       "</div>"
      ],
      "text/plain": [
       "  PassengerId  HomePlanet  CryoSleep    Destination   Age    VIP  RoomService  \\\n",
       "0     0001_01         1.0        0.0    TRAPPIST-1e  39.0  False          0.0   \n",
       "1     0002_01         0.0        0.0    TRAPPIST-1e  24.0  False        109.0   \n",
       "2     0003_01         1.0        0.0    TRAPPIST-1e  58.0   True         43.0   \n",
       "3     0003_02         1.0        0.0    TRAPPIST-1e  33.0  False          0.0   \n",
       "4     0004_01         0.0        0.0    TRAPPIST-1e  16.0  False        303.0   \n",
       "5     0005_01         0.0        0.0  PSO J318.5-22  44.0  False          0.0   \n",
       "6     0006_01         0.0        0.0    TRAPPIST-1e  26.0  False         42.0   \n",
       "7     0006_02         0.0        1.0    TRAPPIST-1e  28.0  False          0.0   \n",
       "8     0007_01         0.0        0.0    TRAPPIST-1e  35.0  False          0.0   \n",
       "9     0008_01         1.0        1.0    55 Cancri e  14.0  False          0.0   \n",
       "\n",
       "   FoodCourt  ShoppingMall     Spa  VRDeck Transported  fold  \n",
       "0        0.0           0.0     0.0     0.0       False     1  \n",
       "1        9.0          25.0   549.0    44.0        True     1  \n",
       "2     3576.0           0.0  6715.0    49.0       False     1  \n",
       "3     1283.0         371.0  3329.0   193.0       False     1  \n",
       "4       70.0         151.0   565.0     2.0        True     1  \n",
       "5      483.0           0.0   291.0     0.0        True     1  \n",
       "6     1539.0           3.0     0.0     0.0        True     1  \n",
       "7        0.0           0.0     0.0     NaN        True     1  \n",
       "8      785.0          17.0   216.0     0.0        True     1  \n",
       "9        0.0           0.0     0.0     0.0        True     1  "
      ]
     },
     "execution_count": 35,
     "metadata": {},
     "output_type": "execute_result"
    }
   ],
   "source": [
    "df_total.head(10)"
   ]
  },
  {
   "cell_type": "code",
   "execution_count": null,
   "id": "38be5eed",
   "metadata": {},
   "outputs": [],
   "source": []
  },
  {
   "cell_type": "code",
   "execution_count": null,
   "id": "b70e1bb5",
   "metadata": {},
   "outputs": [],
   "source": []
  },
  {
   "cell_type": "code",
   "execution_count": null,
   "id": "4aecd75d",
   "metadata": {},
   "outputs": [],
   "source": []
  },
  {
   "cell_type": "code",
   "execution_count": null,
   "id": "260f8a1a",
   "metadata": {},
   "outputs": [],
   "source": []
  },
  {
   "cell_type": "code",
   "execution_count": null,
   "id": "b51ca794",
   "metadata": {},
   "outputs": [],
   "source": []
  },
  {
   "cell_type": "code",
   "execution_count": null,
   "id": "a6c40ea4",
   "metadata": {},
   "outputs": [],
   "source": []
  },
  {
   "cell_type": "code",
   "execution_count": null,
   "id": "40cdf50e",
   "metadata": {},
   "outputs": [],
   "source": []
  },
  {
   "cell_type": "code",
   "execution_count": null,
   "id": "471cc435",
   "metadata": {},
   "outputs": [],
   "source": []
  },
  {
   "cell_type": "code",
   "execution_count": null,
   "id": "20917be2",
   "metadata": {},
   "outputs": [],
   "source": []
  },
  {
   "cell_type": "code",
   "execution_count": null,
   "id": "f824db0e",
   "metadata": {},
   "outputs": [],
   "source": []
  },
  {
   "cell_type": "code",
   "execution_count": null,
   "id": "12b75233",
   "metadata": {},
   "outputs": [],
   "source": []
  },
  {
   "cell_type": "code",
   "execution_count": null,
   "id": "ce86563c",
   "metadata": {},
   "outputs": [],
   "source": []
  },
  {
   "cell_type": "code",
   "execution_count": 40,
   "id": "1f230cf3",
   "metadata": {},
   "outputs": [
    {
     "data": {
      "text/html": [
       "<div>\n",
       "<style scoped>\n",
       "    .dataframe tbody tr th:only-of-type {\n",
       "        vertical-align: middle;\n",
       "    }\n",
       "\n",
       "    .dataframe tbody tr th {\n",
       "        vertical-align: top;\n",
       "    }\n",
       "\n",
       "    .dataframe thead th {\n",
       "        text-align: right;\n",
       "    }\n",
       "</style>\n",
       "<table border=\"1\" class=\"dataframe\">\n",
       "  <thead>\n",
       "    <tr style=\"text-align: right;\">\n",
       "      <th></th>\n",
       "      <th>HomePlanet</th>\n",
       "      <th>CryoSleep</th>\n",
       "      <th>Age</th>\n",
       "      <th>RoomService</th>\n",
       "      <th>FoodCourt</th>\n",
       "      <th>ShoppingMall</th>\n",
       "      <th>Spa</th>\n",
       "      <th>VRDeck</th>\n",
       "      <th>fold</th>\n",
       "    </tr>\n",
       "  </thead>\n",
       "  <tbody>\n",
       "    <tr>\n",
       "      <th>HomePlanet</th>\n",
       "      <td>1.000000</td>\n",
       "      <td>0.088630</td>\n",
       "      <td>0.139440</td>\n",
       "      <td>0.218319</td>\n",
       "      <td>0.065733</td>\n",
       "      <td>0.109956</td>\n",
       "      <td>0.052755</td>\n",
       "      <td>0.036717</td>\n",
       "      <td>0.009986</td>\n",
       "    </tr>\n",
       "    <tr>\n",
       "      <th>CryoSleep</th>\n",
       "      <td>0.088630</td>\n",
       "      <td>1.000000</td>\n",
       "      <td>-0.064196</td>\n",
       "      <td>-0.254352</td>\n",
       "      <td>-0.210556</td>\n",
       "      <td>-0.218003</td>\n",
       "      <td>-0.201455</td>\n",
       "      <td>-0.192238</td>\n",
       "      <td>0.011448</td>\n",
       "    </tr>\n",
       "    <tr>\n",
       "      <th>Age</th>\n",
       "      <td>0.139440</td>\n",
       "      <td>-0.064196</td>\n",
       "      <td>1.000000</td>\n",
       "      <td>0.066921</td>\n",
       "      <td>0.122391</td>\n",
       "      <td>0.034696</td>\n",
       "      <td>0.117158</td>\n",
       "      <td>0.101120</td>\n",
       "      <td>-0.005528</td>\n",
       "    </tr>\n",
       "    <tr>\n",
       "      <th>RoomService</th>\n",
       "      <td>0.218319</td>\n",
       "      <td>-0.254352</td>\n",
       "      <td>0.066921</td>\n",
       "      <td>1.000000</td>\n",
       "      <td>-0.020146</td>\n",
       "      <td>0.057402</td>\n",
       "      <td>0.008936</td>\n",
       "      <td>-0.023847</td>\n",
       "      <td>-0.003937</td>\n",
       "    </tr>\n",
       "    <tr>\n",
       "      <th>FoodCourt</th>\n",
       "      <td>0.065733</td>\n",
       "      <td>-0.210556</td>\n",
       "      <td>0.122391</td>\n",
       "      <td>-0.020146</td>\n",
       "      <td>1.000000</td>\n",
       "      <td>-0.001589</td>\n",
       "      <td>0.228990</td>\n",
       "      <td>0.244279</td>\n",
       "      <td>-0.005514</td>\n",
       "    </tr>\n",
       "    <tr>\n",
       "      <th>ShoppingMall</th>\n",
       "      <td>0.109956</td>\n",
       "      <td>-0.218003</td>\n",
       "      <td>0.034696</td>\n",
       "      <td>0.057402</td>\n",
       "      <td>-0.001589</td>\n",
       "      <td>1.000000</td>\n",
       "      <td>0.010504</td>\n",
       "      <td>0.004485</td>\n",
       "      <td>0.002840</td>\n",
       "    </tr>\n",
       "    <tr>\n",
       "      <th>Spa</th>\n",
       "      <td>0.052755</td>\n",
       "      <td>-0.201455</td>\n",
       "      <td>0.117158</td>\n",
       "      <td>0.008936</td>\n",
       "      <td>0.228990</td>\n",
       "      <td>0.010504</td>\n",
       "      <td>1.000000</td>\n",
       "      <td>0.149874</td>\n",
       "      <td>-0.003362</td>\n",
       "    </tr>\n",
       "    <tr>\n",
       "      <th>VRDeck</th>\n",
       "      <td>0.036717</td>\n",
       "      <td>-0.192238</td>\n",
       "      <td>0.101120</td>\n",
       "      <td>-0.023847</td>\n",
       "      <td>0.244279</td>\n",
       "      <td>0.004485</td>\n",
       "      <td>0.149874</td>\n",
       "      <td>1.000000</td>\n",
       "      <td>0.002334</td>\n",
       "    </tr>\n",
       "    <tr>\n",
       "      <th>fold</th>\n",
       "      <td>0.009986</td>\n",
       "      <td>0.011448</td>\n",
       "      <td>-0.005528</td>\n",
       "      <td>-0.003937</td>\n",
       "      <td>-0.005514</td>\n",
       "      <td>0.002840</td>\n",
       "      <td>-0.003362</td>\n",
       "      <td>0.002334</td>\n",
       "      <td>1.000000</td>\n",
       "    </tr>\n",
       "  </tbody>\n",
       "</table>\n",
       "</div>"
      ],
      "text/plain": [
       "              HomePlanet  CryoSleep       Age  RoomService  FoodCourt  \\\n",
       "HomePlanet      1.000000   0.088630  0.139440     0.218319   0.065733   \n",
       "CryoSleep       0.088630   1.000000 -0.064196    -0.254352  -0.210556   \n",
       "Age             0.139440  -0.064196  1.000000     0.066921   0.122391   \n",
       "RoomService     0.218319  -0.254352  0.066921     1.000000  -0.020146   \n",
       "FoodCourt       0.065733  -0.210556  0.122391    -0.020146   1.000000   \n",
       "ShoppingMall    0.109956  -0.218003  0.034696     0.057402  -0.001589   \n",
       "Spa             0.052755  -0.201455  0.117158     0.008936   0.228990   \n",
       "VRDeck          0.036717  -0.192238  0.101120    -0.023847   0.244279   \n",
       "fold            0.009986   0.011448 -0.005528    -0.003937  -0.005514   \n",
       "\n",
       "              ShoppingMall       Spa    VRDeck      fold  \n",
       "HomePlanet        0.109956  0.052755  0.036717  0.009986  \n",
       "CryoSleep        -0.218003 -0.201455 -0.192238  0.011448  \n",
       "Age               0.034696  0.117158  0.101120 -0.005528  \n",
       "RoomService       0.057402  0.008936 -0.023847 -0.003937  \n",
       "FoodCourt        -0.001589  0.228990  0.244279 -0.005514  \n",
       "ShoppingMall      1.000000  0.010504  0.004485  0.002840  \n",
       "Spa               0.010504  1.000000  0.149874 -0.003362  \n",
       "VRDeck            0.004485  0.149874  1.000000  0.002334  \n",
       "fold              0.002840 -0.003362  0.002334  1.000000  "
      ]
     },
     "execution_count": 40,
     "metadata": {},
     "output_type": "execute_result"
    }
   ],
   "source": [
    "df_total.corr()"
   ]
  },
  {
   "cell_type": "code",
   "execution_count": 42,
   "id": "1d8e8b0c",
   "metadata": {
    "scrolled": true
   },
   "outputs": [
    {
     "data": {
      "text/plain": [
       "TRAPPIST-1e      8871\n",
       "55 Cancri e      2641\n",
       "PSO J318.5-22    1184\n",
       "Name: Destination, dtype: int64"
      ]
     },
     "execution_count": 42,
     "metadata": {},
     "output_type": "execute_result"
    }
   ],
   "source": [
    "# Visualizando novamente a coluna Destination\n",
    "# False = 0\n",
    "# True = 1\n",
    "df_total['Destination'].value_counts()"
   ]
  },
  {
   "cell_type": "code",
   "execution_count": 47,
   "id": "ef8c8f2d",
   "metadata": {},
   "outputs": [
    {
     "data": {
      "text/html": [
       "<div>\n",
       "<style scoped>\n",
       "    .dataframe tbody tr th:only-of-type {\n",
       "        vertical-align: middle;\n",
       "    }\n",
       "\n",
       "    .dataframe tbody tr th {\n",
       "        vertical-align: top;\n",
       "    }\n",
       "\n",
       "    .dataframe thead th {\n",
       "        text-align: right;\n",
       "    }\n",
       "</style>\n",
       "<table border=\"1\" class=\"dataframe\">\n",
       "  <thead>\n",
       "    <tr style=\"text-align: right;\">\n",
       "      <th></th>\n",
       "      <th>HomePlanet</th>\n",
       "      <th>CryoSleep</th>\n",
       "      <th>Age</th>\n",
       "      <th>RoomService</th>\n",
       "      <th>FoodCourt</th>\n",
       "      <th>ShoppingMall</th>\n",
       "      <th>Spa</th>\n",
       "      <th>VRDeck</th>\n",
       "      <th>fold</th>\n",
       "    </tr>\n",
       "  </thead>\n",
       "  <tbody>\n",
       "    <tr>\n",
       "      <th>count</th>\n",
       "      <td>12970.000000</td>\n",
       "      <td>12970.000000</td>\n",
       "      <td>12970.000000</td>\n",
       "      <td>12707.000000</td>\n",
       "      <td>12681.000000</td>\n",
       "      <td>12664.000000</td>\n",
       "      <td>12686.000000</td>\n",
       "      <td>12702.000000</td>\n",
       "      <td>12970.000000</td>\n",
       "    </tr>\n",
       "    <tr>\n",
       "      <th>mean</th>\n",
       "      <td>0.655436</td>\n",
       "      <td>0.353200</td>\n",
       "      <td>28.735081</td>\n",
       "      <td>222.897852</td>\n",
       "      <td>451.961675</td>\n",
       "      <td>174.906033</td>\n",
       "      <td>308.476904</td>\n",
       "      <td>306.789482</td>\n",
       "      <td>1.329761</td>\n",
       "    </tr>\n",
       "    <tr>\n",
       "      <th>std</th>\n",
       "      <td>0.799855</td>\n",
       "      <td>0.477983</td>\n",
       "      <td>14.238958</td>\n",
       "      <td>647.596664</td>\n",
       "      <td>1584.370747</td>\n",
       "      <td>590.558690</td>\n",
       "      <td>1130.279641</td>\n",
       "      <td>1180.097223</td>\n",
       "      <td>0.470144</td>\n",
       "    </tr>\n",
       "    <tr>\n",
       "      <th>min</th>\n",
       "      <td>0.000000</td>\n",
       "      <td>0.000000</td>\n",
       "      <td>0.000000</td>\n",
       "      <td>0.000000</td>\n",
       "      <td>0.000000</td>\n",
       "      <td>0.000000</td>\n",
       "      <td>0.000000</td>\n",
       "      <td>0.000000</td>\n",
       "      <td>1.000000</td>\n",
       "    </tr>\n",
       "    <tr>\n",
       "      <th>25%</th>\n",
       "      <td>0.000000</td>\n",
       "      <td>0.000000</td>\n",
       "      <td>20.000000</td>\n",
       "      <td>0.000000</td>\n",
       "      <td>0.000000</td>\n",
       "      <td>0.000000</td>\n",
       "      <td>0.000000</td>\n",
       "      <td>0.000000</td>\n",
       "      <td>1.000000</td>\n",
       "    </tr>\n",
       "    <tr>\n",
       "      <th>50%</th>\n",
       "      <td>0.000000</td>\n",
       "      <td>0.000000</td>\n",
       "      <td>27.000000</td>\n",
       "      <td>0.000000</td>\n",
       "      <td>0.000000</td>\n",
       "      <td>0.000000</td>\n",
       "      <td>0.000000</td>\n",
       "      <td>0.000000</td>\n",
       "      <td>1.000000</td>\n",
       "    </tr>\n",
       "    <tr>\n",
       "      <th>75%</th>\n",
       "      <td>1.000000</td>\n",
       "      <td>1.000000</td>\n",
       "      <td>37.000000</td>\n",
       "      <td>49.000000</td>\n",
       "      <td>77.000000</td>\n",
       "      <td>29.000000</td>\n",
       "      <td>57.000000</td>\n",
       "      <td>42.000000</td>\n",
       "      <td>2.000000</td>\n",
       "    </tr>\n",
       "    <tr>\n",
       "      <th>max</th>\n",
       "      <td>2.000000</td>\n",
       "      <td>1.000000</td>\n",
       "      <td>79.000000</td>\n",
       "      <td>14327.000000</td>\n",
       "      <td>29813.000000</td>\n",
       "      <td>23492.000000</td>\n",
       "      <td>22408.000000</td>\n",
       "      <td>24133.000000</td>\n",
       "      <td>2.000000</td>\n",
       "    </tr>\n",
       "  </tbody>\n",
       "</table>\n",
       "</div>"
      ],
      "text/plain": [
       "         HomePlanet     CryoSleep           Age   RoomService     FoodCourt  \\\n",
       "count  12970.000000  12970.000000  12970.000000  12707.000000  12681.000000   \n",
       "mean       0.655436      0.353200     28.735081    222.897852    451.961675   \n",
       "std        0.799855      0.477983     14.238958    647.596664   1584.370747   \n",
       "min        0.000000      0.000000      0.000000      0.000000      0.000000   \n",
       "25%        0.000000      0.000000     20.000000      0.000000      0.000000   \n",
       "50%        0.000000      0.000000     27.000000      0.000000      0.000000   \n",
       "75%        1.000000      1.000000     37.000000     49.000000     77.000000   \n",
       "max        2.000000      1.000000     79.000000  14327.000000  29813.000000   \n",
       "\n",
       "       ShoppingMall           Spa        VRDeck          fold  \n",
       "count  12664.000000  12686.000000  12702.000000  12970.000000  \n",
       "mean     174.906033    308.476904    306.789482      1.329761  \n",
       "std      590.558690   1130.279641   1180.097223      0.470144  \n",
       "min        0.000000      0.000000      0.000000      1.000000  \n",
       "25%        0.000000      0.000000      0.000000      1.000000  \n",
       "50%        0.000000      0.000000      0.000000      1.000000  \n",
       "75%       29.000000     57.000000     42.000000      2.000000  \n",
       "max    23492.000000  22408.000000  24133.000000      2.000000  "
      ]
     },
     "execution_count": 47,
     "metadata": {},
     "output_type": "execute_result"
    }
   ],
   "source": [
    "df_total.describe()"
   ]
  },
  {
   "cell_type": "code",
   "execution_count": 45,
   "id": "2595ee31",
   "metadata": {},
   "outputs": [
    {
     "data": {
      "text/html": [
       "<style type=\"text/css\">\n",
       "#T_8c82a_row0_col0, #T_8c82a_row1_col1, #T_8c82a_row2_col2, #T_8c82a_row3_col3, #T_8c82a_row4_col4, #T_8c82a_row5_col5, #T_8c82a_row6_col6, #T_8c82a_row7_col7, #T_8c82a_row8_col8 {\n",
       "  background-color: #b40426;\n",
       "  color: #f1f1f1;\n",
       "}\n",
       "#T_8c82a_row0_col1 {\n",
       "  background-color: #94b6ff;\n",
       "  color: #000000;\n",
       "}\n",
       "#T_8c82a_row0_col2, #T_8c82a_row6_col5 {\n",
       "  background-color: #779af7;\n",
       "  color: #f1f1f1;\n",
       "}\n",
       "#T_8c82a_row0_col3, #T_8c82a_row7_col4 {\n",
       "  background-color: #b9d0f9;\n",
       "  color: #000000;\n",
       "}\n",
       "#T_8c82a_row0_col4 {\n",
       "  background-color: #85a8fc;\n",
       "  color: #f1f1f1;\n",
       "}\n",
       "#T_8c82a_row0_col5 {\n",
       "  background-color: #93b5fe;\n",
       "  color: #000000;\n",
       "}\n",
       "#T_8c82a_row0_col6, #T_8c82a_row8_col1 {\n",
       "  background-color: #80a3fa;\n",
       "  color: #f1f1f1;\n",
       "}\n",
       "#T_8c82a_row0_col7 {\n",
       "  background-color: #799cf8;\n",
       "  color: #f1f1f1;\n",
       "}\n",
       "#T_8c82a_row0_col8 {\n",
       "  background-color: #3e51c5;\n",
       "  color: #f1f1f1;\n",
       "}\n",
       "#T_8c82a_row1_col0 {\n",
       "  background-color: #536edd;\n",
       "  color: #f1f1f1;\n",
       "}\n",
       "#T_8c82a_row1_col2, #T_8c82a_row1_col3, #T_8c82a_row1_col4, #T_8c82a_row1_col5, #T_8c82a_row1_col6, #T_8c82a_row1_col7, #T_8c82a_row2_col8, #T_8c82a_row3_col1, #T_8c82a_row3_col8, #T_8c82a_row4_col8, #T_8c82a_row6_col8, #T_8c82a_row8_col0 {\n",
       "  background-color: #3b4cc0;\n",
       "  color: #f1f1f1;\n",
       "}\n",
       "#T_8c82a_row1_col8 {\n",
       "  background-color: #3f53c6;\n",
       "  color: #f1f1f1;\n",
       "}\n",
       "#T_8c82a_row2_col0 {\n",
       "  background-color: #6384eb;\n",
       "  color: #f1f1f1;\n",
       "}\n",
       "#T_8c82a_row2_col1 {\n",
       "  background-color: #6a8bef;\n",
       "  color: #f1f1f1;\n",
       "}\n",
       "#T_8c82a_row2_col3 {\n",
       "  background-color: #8fb1fe;\n",
       "  color: #000000;\n",
       "}\n",
       "#T_8c82a_row2_col4 {\n",
       "  background-color: #96b7ff;\n",
       "  color: #000000;\n",
       "}\n",
       "#T_8c82a_row2_col5, #T_8c82a_row3_col0, #T_8c82a_row6_col3 {\n",
       "  background-color: #7ea1fa;\n",
       "  color: #f1f1f1;\n",
       "}\n",
       "#T_8c82a_row2_col6 {\n",
       "  background-color: #92b4fe;\n",
       "  color: #000000;\n",
       "}\n",
       "#T_8c82a_row2_col7 {\n",
       "  background-color: #8badfd;\n",
       "  color: #000000;\n",
       "}\n",
       "#T_8c82a_row3_col2 {\n",
       "  background-color: #6180e9;\n",
       "  color: #f1f1f1;\n",
       "}\n",
       "#T_8c82a_row3_col4 {\n",
       "  background-color: #6c8ff1;\n",
       "  color: #f1f1f1;\n",
       "}\n",
       "#T_8c82a_row3_col5 {\n",
       "  background-color: #84a7fc;\n",
       "  color: #f1f1f1;\n",
       "}\n",
       "#T_8c82a_row3_col6, #T_8c82a_row4_col2, #T_8c82a_row5_col4 {\n",
       "  background-color: #7295f4;\n",
       "  color: #f1f1f1;\n",
       "}\n",
       "#T_8c82a_row3_col7 {\n",
       "  background-color: #6788ee;\n",
       "  color: #f1f1f1;\n",
       "}\n",
       "#T_8c82a_row4_col0, #T_8c82a_row8_col2 {\n",
       "  background-color: #4b64d5;\n",
       "  color: #f1f1f1;\n",
       "}\n",
       "#T_8c82a_row4_col1 {\n",
       "  background-color: #445acc;\n",
       "  color: #f1f1f1;\n",
       "}\n",
       "#T_8c82a_row4_col3, #T_8c82a_row7_col3 {\n",
       "  background-color: #7699f6;\n",
       "  color: #f1f1f1;\n",
       "}\n",
       "#T_8c82a_row4_col5, #T_8c82a_row5_col6 {\n",
       "  background-color: #7396f5;\n",
       "  color: #f1f1f1;\n",
       "}\n",
       "#T_8c82a_row4_col6 {\n",
       "  background-color: #b2ccfb;\n",
       "  color: #000000;\n",
       "}\n",
       "#T_8c82a_row4_col7 {\n",
       "  background-color: #b5cdfa;\n",
       "  color: #000000;\n",
       "}\n",
       "#T_8c82a_row5_col0 {\n",
       "  background-color: #5977e3;\n",
       "  color: #f1f1f1;\n",
       "}\n",
       "#T_8c82a_row5_col1 {\n",
       "  background-color: #4358cb;\n",
       "  color: #f1f1f1;\n",
       "}\n",
       "#T_8c82a_row5_col2 {\n",
       "  background-color: #5673e0;\n",
       "  color: #f1f1f1;\n",
       "}\n",
       "#T_8c82a_row5_col3 {\n",
       "  background-color: #8caffe;\n",
       "  color: #000000;\n",
       "}\n",
       "#T_8c82a_row5_col7, #T_8c82a_row8_col6 {\n",
       "  background-color: #6f92f3;\n",
       "  color: #f1f1f1;\n",
       "}\n",
       "#T_8c82a_row5_col8, #T_8c82a_row7_col8 {\n",
       "  background-color: #3d50c3;\n",
       "  color: #f1f1f1;\n",
       "}\n",
       "#T_8c82a_row6_col0 {\n",
       "  background-color: #485fd1;\n",
       "  color: #f1f1f1;\n",
       "}\n",
       "#T_8c82a_row6_col1 {\n",
       "  background-color: #465ecf;\n",
       "  color: #f1f1f1;\n",
       "}\n",
       "#T_8c82a_row6_col2, #T_8c82a_row8_col4 {\n",
       "  background-color: #7093f3;\n",
       "  color: #f1f1f1;\n",
       "}\n",
       "#T_8c82a_row6_col4 {\n",
       "  background-color: #b3cdfb;\n",
       "  color: #000000;\n",
       "}\n",
       "#T_8c82a_row6_col7 {\n",
       "  background-color: #9abbff;\n",
       "  color: #000000;\n",
       "}\n",
       "#T_8c82a_row7_col0 {\n",
       "  background-color: #4257c9;\n",
       "  color: #f1f1f1;\n",
       "}\n",
       "#T_8c82a_row7_col1 {\n",
       "  background-color: #4961d2;\n",
       "  color: #f1f1f1;\n",
       "}\n",
       "#T_8c82a_row7_col2 {\n",
       "  background-color: #6b8df0;\n",
       "  color: #f1f1f1;\n",
       "}\n",
       "#T_8c82a_row7_col5, #T_8c82a_row8_col5 {\n",
       "  background-color: #7597f6;\n",
       "  color: #f1f1f1;\n",
       "}\n",
       "#T_8c82a_row7_col6 {\n",
       "  background-color: #9bbcff;\n",
       "  color: #000000;\n",
       "}\n",
       "#T_8c82a_row8_col3 {\n",
       "  background-color: #7b9ff9;\n",
       "  color: #f1f1f1;\n",
       "}\n",
       "#T_8c82a_row8_col7 {\n",
       "  background-color: #6e90f2;\n",
       "  color: #f1f1f1;\n",
       "}\n",
       "</style>\n",
       "<table id=\"T_8c82a_\">\n",
       "  <thead>\n",
       "    <tr>\n",
       "      <th class=\"blank level0\" >&nbsp;</th>\n",
       "      <th class=\"col_heading level0 col0\" >HomePlanet</th>\n",
       "      <th class=\"col_heading level0 col1\" >CryoSleep</th>\n",
       "      <th class=\"col_heading level0 col2\" >Age</th>\n",
       "      <th class=\"col_heading level0 col3\" >RoomService</th>\n",
       "      <th class=\"col_heading level0 col4\" >FoodCourt</th>\n",
       "      <th class=\"col_heading level0 col5\" >ShoppingMall</th>\n",
       "      <th class=\"col_heading level0 col6\" >Spa</th>\n",
       "      <th class=\"col_heading level0 col7\" >VRDeck</th>\n",
       "      <th class=\"col_heading level0 col8\" >fold</th>\n",
       "    </tr>\n",
       "  </thead>\n",
       "  <tbody>\n",
       "    <tr>\n",
       "      <th id=\"T_8c82a_level0_row0\" class=\"row_heading level0 row0\" >HomePlanet</th>\n",
       "      <td id=\"T_8c82a_row0_col0\" class=\"data row0 col0\" >1.000000</td>\n",
       "      <td id=\"T_8c82a_row0_col1\" class=\"data row0 col1\" >0.088630</td>\n",
       "      <td id=\"T_8c82a_row0_col2\" class=\"data row0 col2\" >0.139440</td>\n",
       "      <td id=\"T_8c82a_row0_col3\" class=\"data row0 col3\" >0.218319</td>\n",
       "      <td id=\"T_8c82a_row0_col4\" class=\"data row0 col4\" >0.065733</td>\n",
       "      <td id=\"T_8c82a_row0_col5\" class=\"data row0 col5\" >0.109956</td>\n",
       "      <td id=\"T_8c82a_row0_col6\" class=\"data row0 col6\" >0.052755</td>\n",
       "      <td id=\"T_8c82a_row0_col7\" class=\"data row0 col7\" >0.036717</td>\n",
       "      <td id=\"T_8c82a_row0_col8\" class=\"data row0 col8\" >0.009986</td>\n",
       "    </tr>\n",
       "    <tr>\n",
       "      <th id=\"T_8c82a_level0_row1\" class=\"row_heading level0 row1\" >CryoSleep</th>\n",
       "      <td id=\"T_8c82a_row1_col0\" class=\"data row1 col0\" >0.088630</td>\n",
       "      <td id=\"T_8c82a_row1_col1\" class=\"data row1 col1\" >1.000000</td>\n",
       "      <td id=\"T_8c82a_row1_col2\" class=\"data row1 col2\" >-0.064196</td>\n",
       "      <td id=\"T_8c82a_row1_col3\" class=\"data row1 col3\" >-0.254352</td>\n",
       "      <td id=\"T_8c82a_row1_col4\" class=\"data row1 col4\" >-0.210556</td>\n",
       "      <td id=\"T_8c82a_row1_col5\" class=\"data row1 col5\" >-0.218003</td>\n",
       "      <td id=\"T_8c82a_row1_col6\" class=\"data row1 col6\" >-0.201455</td>\n",
       "      <td id=\"T_8c82a_row1_col7\" class=\"data row1 col7\" >-0.192238</td>\n",
       "      <td id=\"T_8c82a_row1_col8\" class=\"data row1 col8\" >0.011448</td>\n",
       "    </tr>\n",
       "    <tr>\n",
       "      <th id=\"T_8c82a_level0_row2\" class=\"row_heading level0 row2\" >Age</th>\n",
       "      <td id=\"T_8c82a_row2_col0\" class=\"data row2 col0\" >0.139440</td>\n",
       "      <td id=\"T_8c82a_row2_col1\" class=\"data row2 col1\" >-0.064196</td>\n",
       "      <td id=\"T_8c82a_row2_col2\" class=\"data row2 col2\" >1.000000</td>\n",
       "      <td id=\"T_8c82a_row2_col3\" class=\"data row2 col3\" >0.066921</td>\n",
       "      <td id=\"T_8c82a_row2_col4\" class=\"data row2 col4\" >0.122391</td>\n",
       "      <td id=\"T_8c82a_row2_col5\" class=\"data row2 col5\" >0.034696</td>\n",
       "      <td id=\"T_8c82a_row2_col6\" class=\"data row2 col6\" >0.117158</td>\n",
       "      <td id=\"T_8c82a_row2_col7\" class=\"data row2 col7\" >0.101120</td>\n",
       "      <td id=\"T_8c82a_row2_col8\" class=\"data row2 col8\" >-0.005528</td>\n",
       "    </tr>\n",
       "    <tr>\n",
       "      <th id=\"T_8c82a_level0_row3\" class=\"row_heading level0 row3\" >RoomService</th>\n",
       "      <td id=\"T_8c82a_row3_col0\" class=\"data row3 col0\" >0.218319</td>\n",
       "      <td id=\"T_8c82a_row3_col1\" class=\"data row3 col1\" >-0.254352</td>\n",
       "      <td id=\"T_8c82a_row3_col2\" class=\"data row3 col2\" >0.066921</td>\n",
       "      <td id=\"T_8c82a_row3_col3\" class=\"data row3 col3\" >1.000000</td>\n",
       "      <td id=\"T_8c82a_row3_col4\" class=\"data row3 col4\" >-0.020146</td>\n",
       "      <td id=\"T_8c82a_row3_col5\" class=\"data row3 col5\" >0.057402</td>\n",
       "      <td id=\"T_8c82a_row3_col6\" class=\"data row3 col6\" >0.008936</td>\n",
       "      <td id=\"T_8c82a_row3_col7\" class=\"data row3 col7\" >-0.023847</td>\n",
       "      <td id=\"T_8c82a_row3_col8\" class=\"data row3 col8\" >-0.003937</td>\n",
       "    </tr>\n",
       "    <tr>\n",
       "      <th id=\"T_8c82a_level0_row4\" class=\"row_heading level0 row4\" >FoodCourt</th>\n",
       "      <td id=\"T_8c82a_row4_col0\" class=\"data row4 col0\" >0.065733</td>\n",
       "      <td id=\"T_8c82a_row4_col1\" class=\"data row4 col1\" >-0.210556</td>\n",
       "      <td id=\"T_8c82a_row4_col2\" class=\"data row4 col2\" >0.122391</td>\n",
       "      <td id=\"T_8c82a_row4_col3\" class=\"data row4 col3\" >-0.020146</td>\n",
       "      <td id=\"T_8c82a_row4_col4\" class=\"data row4 col4\" >1.000000</td>\n",
       "      <td id=\"T_8c82a_row4_col5\" class=\"data row4 col5\" >-0.001589</td>\n",
       "      <td id=\"T_8c82a_row4_col6\" class=\"data row4 col6\" >0.228990</td>\n",
       "      <td id=\"T_8c82a_row4_col7\" class=\"data row4 col7\" >0.244279</td>\n",
       "      <td id=\"T_8c82a_row4_col8\" class=\"data row4 col8\" >-0.005514</td>\n",
       "    </tr>\n",
       "    <tr>\n",
       "      <th id=\"T_8c82a_level0_row5\" class=\"row_heading level0 row5\" >ShoppingMall</th>\n",
       "      <td id=\"T_8c82a_row5_col0\" class=\"data row5 col0\" >0.109956</td>\n",
       "      <td id=\"T_8c82a_row5_col1\" class=\"data row5 col1\" >-0.218003</td>\n",
       "      <td id=\"T_8c82a_row5_col2\" class=\"data row5 col2\" >0.034696</td>\n",
       "      <td id=\"T_8c82a_row5_col3\" class=\"data row5 col3\" >0.057402</td>\n",
       "      <td id=\"T_8c82a_row5_col4\" class=\"data row5 col4\" >-0.001589</td>\n",
       "      <td id=\"T_8c82a_row5_col5\" class=\"data row5 col5\" >1.000000</td>\n",
       "      <td id=\"T_8c82a_row5_col6\" class=\"data row5 col6\" >0.010504</td>\n",
       "      <td id=\"T_8c82a_row5_col7\" class=\"data row5 col7\" >0.004485</td>\n",
       "      <td id=\"T_8c82a_row5_col8\" class=\"data row5 col8\" >0.002840</td>\n",
       "    </tr>\n",
       "    <tr>\n",
       "      <th id=\"T_8c82a_level0_row6\" class=\"row_heading level0 row6\" >Spa</th>\n",
       "      <td id=\"T_8c82a_row6_col0\" class=\"data row6 col0\" >0.052755</td>\n",
       "      <td id=\"T_8c82a_row6_col1\" class=\"data row6 col1\" >-0.201455</td>\n",
       "      <td id=\"T_8c82a_row6_col2\" class=\"data row6 col2\" >0.117158</td>\n",
       "      <td id=\"T_8c82a_row6_col3\" class=\"data row6 col3\" >0.008936</td>\n",
       "      <td id=\"T_8c82a_row6_col4\" class=\"data row6 col4\" >0.228990</td>\n",
       "      <td id=\"T_8c82a_row6_col5\" class=\"data row6 col5\" >0.010504</td>\n",
       "      <td id=\"T_8c82a_row6_col6\" class=\"data row6 col6\" >1.000000</td>\n",
       "      <td id=\"T_8c82a_row6_col7\" class=\"data row6 col7\" >0.149874</td>\n",
       "      <td id=\"T_8c82a_row6_col8\" class=\"data row6 col8\" >-0.003362</td>\n",
       "    </tr>\n",
       "    <tr>\n",
       "      <th id=\"T_8c82a_level0_row7\" class=\"row_heading level0 row7\" >VRDeck</th>\n",
       "      <td id=\"T_8c82a_row7_col0\" class=\"data row7 col0\" >0.036717</td>\n",
       "      <td id=\"T_8c82a_row7_col1\" class=\"data row7 col1\" >-0.192238</td>\n",
       "      <td id=\"T_8c82a_row7_col2\" class=\"data row7 col2\" >0.101120</td>\n",
       "      <td id=\"T_8c82a_row7_col3\" class=\"data row7 col3\" >-0.023847</td>\n",
       "      <td id=\"T_8c82a_row7_col4\" class=\"data row7 col4\" >0.244279</td>\n",
       "      <td id=\"T_8c82a_row7_col5\" class=\"data row7 col5\" >0.004485</td>\n",
       "      <td id=\"T_8c82a_row7_col6\" class=\"data row7 col6\" >0.149874</td>\n",
       "      <td id=\"T_8c82a_row7_col7\" class=\"data row7 col7\" >1.000000</td>\n",
       "      <td id=\"T_8c82a_row7_col8\" class=\"data row7 col8\" >0.002334</td>\n",
       "    </tr>\n",
       "    <tr>\n",
       "      <th id=\"T_8c82a_level0_row8\" class=\"row_heading level0 row8\" >fold</th>\n",
       "      <td id=\"T_8c82a_row8_col0\" class=\"data row8 col0\" >0.009986</td>\n",
       "      <td id=\"T_8c82a_row8_col1\" class=\"data row8 col1\" >0.011448</td>\n",
       "      <td id=\"T_8c82a_row8_col2\" class=\"data row8 col2\" >-0.005528</td>\n",
       "      <td id=\"T_8c82a_row8_col3\" class=\"data row8 col3\" >-0.003937</td>\n",
       "      <td id=\"T_8c82a_row8_col4\" class=\"data row8 col4\" >-0.005514</td>\n",
       "      <td id=\"T_8c82a_row8_col5\" class=\"data row8 col5\" >0.002840</td>\n",
       "      <td id=\"T_8c82a_row8_col6\" class=\"data row8 col6\" >-0.003362</td>\n",
       "      <td id=\"T_8c82a_row8_col7\" class=\"data row8 col7\" >0.002334</td>\n",
       "      <td id=\"T_8c82a_row8_col8\" class=\"data row8 col8\" >1.000000</td>\n",
       "    </tr>\n",
       "  </tbody>\n",
       "</table>\n"
      ],
      "text/plain": [
       "<pandas.io.formats.style.Styler at 0x7fcbef995160>"
      ]
     },
     "execution_count": 45,
     "metadata": {},
     "output_type": "execute_result"
    }
   ],
   "source": [
    "corr_df = df_total.corr(method='pearson')\n",
    "\n",
    "corr_df.style.background_gradient(cmap='coolwarm')"
   ]
  },
  {
   "cell_type": "code",
   "execution_count": 44,
   "id": "51b88590",
   "metadata": {},
   "outputs": [
    {
     "data": {
      "image/png": "[encoded data removed]",
      "text/plain": [
       "<Figure size 576x432 with 2 Axes>"
      ]
     },
     "metadata": {
      "needs_background": "light"
     },
     "output_type": "display_data"
    }
   ],
   "source": [
    "corr_df = df_total.corr(method='pearson')\n",
    "\n",
    "plt.figure(figsize=(8, 6))\n",
    "sns.heatmap(corr_df, annot=True)\n",
    "plt.show()"
   ]
  },
  {
   "cell_type": "code",
   "execution_count": null,
   "id": "92eaa628",
   "metadata": {},
   "outputs": [],
   "source": []
  }
 ],
 "metadata": {
  "kernelspec": {
   "display_name": "Python 3 (ipykernel)",
   "language": "python",
   "name": "python3"
  },
  "language_info": {
   "codemirror_mode": {
    "name": "ipython",
    "version": 3
   },
   "file_extension": ".py",
   "mimetype": "text/x-python",
   "name": "python",
   "nbconvert_exporter": "python",
   "pygments_lexer": "ipython3",
   "version": "3.9.7"
  }
 },
 "nbformat": 4,
 "nbformat_minor": 5
}
